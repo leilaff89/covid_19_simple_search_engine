{
 "cells": [
  {
   "cell_type": "markdown",
   "metadata": {},
   "source": [
    "# Universidade Tecnológica Federal do Paraná\n",
    "\n",
    "## Programa de Pós-Graduação em Computação Aplicada\n",
    "\n",
    "### Ciência de Dados 2 - 2021/1\n",
    "### Equipe Evolution:\n",
    "### Leila Fabiola Ferreira\n",
    "### Mateus Cichelero da Silva"
   ]
  },
  {
   "cell_type": "markdown",
   "metadata": {},
   "source": [
    "## Atividade 2 - Análise exploratória: Arquivo B - Formatação Dataset\n",
    "\n",
    "Após a etapa de extração de dados, o próximo objetivo é formatar o dataset em uma estrutura que possibilite o fácil acesso às mensagens recebidas pelo bot. \n",
    "\n",
    "Conforme visto anteriormente, a base final de extração teve que ser dividida em vários arquivos menores para evitar problemas de memória. Aqui, iremos tratar essas colunas para separação das informações realmente necessárias, com o objetivo de tornar o arquivo final dataset.csv mais leve para os futuros processamentos."
   ]
  },
  {
   "cell_type": "code",
   "execution_count": 84,
   "metadata": {},
   "outputs": [],
   "source": [
    "import pandas as pd\n",
    "from pandas.io.json import json_normalize\n",
    "import json\n",
    "from datetime import datetime"
   ]
  },
  {
   "cell_type": "markdown",
   "metadata": {},
   "source": [
    "## Separando colunas de \"raw text\" do formato original de extração - Teste das funções em amostra de um dos arquivos extraídos"
   ]
  },
  {
   "cell_type": "code",
   "execution_count": 4,
   "metadata": {},
   "outputs": [],
   "source": [
    "df = pd.read_csv('laura_extraction_data/0_data.csv')"
   ]
  },
  {
   "cell_type": "code",
   "execution_count": 5,
   "metadata": {},
   "outputs": [
    {
     "data": {
      "text/plain": [
       "(10000, 3)"
      ]
     },
     "execution_count": 5,
     "metadata": {},
     "output_type": "execute_result"
    }
   ],
   "source": [
    "df.shape"
   ]
  },
  {
   "cell_type": "code",
   "execution_count": 6,
   "metadata": {},
   "outputs": [
    {
     "data": {
      "text/html": [
       "<div>\n",
       "<style scoped>\n",
       "    .dataframe tbody tr th:only-of-type {\n",
       "        vertical-align: middle;\n",
       "    }\n",
       "\n",
       "    .dataframe tbody tr th {\n",
       "        vertical-align: top;\n",
       "    }\n",
       "\n",
       "    .dataframe thead th {\n",
       "        text-align: right;\n",
       "    }\n",
       "</style>\n",
       "<table border=\"1\" class=\"dataframe\">\n",
       "  <thead>\n",
       "    <tr style=\"text-align: right;\">\n",
       "      <th></th>\n",
       "      <th>id</th>\n",
       "      <th>date_timestamp</th>\n",
       "      <th>data</th>\n",
       "    </tr>\n",
       "  </thead>\n",
       "  <tbody>\n",
       "    <tr>\n",
       "      <th>0</th>\n",
       "      <td>5</td>\n",
       "      <td>1.585158e+09</td>\n",
       "      <td>{\"event\": \"user\", \"timestamp\": 1585157911.3968...</td>\n",
       "    </tr>\n",
       "    <tr>\n",
       "      <th>1</th>\n",
       "      <td>13</td>\n",
       "      <td>1.585158e+09</td>\n",
       "      <td>{\"event\": \"user\", \"timestamp\": 1585157912.9197...</td>\n",
       "    </tr>\n",
       "    <tr>\n",
       "      <th>2</th>\n",
       "      <td>17</td>\n",
       "      <td>1.585159e+09</td>\n",
       "      <td>{\"event\": \"user\", \"timestamp\": 1585158867.2471...</td>\n",
       "    </tr>\n",
       "    <tr>\n",
       "      <th>3</th>\n",
       "      <td>25</td>\n",
       "      <td>1.585159e+09</td>\n",
       "      <td>{\"event\": \"user\", \"timestamp\": 1585158870.7418...</td>\n",
       "    </tr>\n",
       "    <tr>\n",
       "      <th>4</th>\n",
       "      <td>29</td>\n",
       "      <td>1.585159e+09</td>\n",
       "      <td>{\"event\": \"user\", \"timestamp\": 1585158874.7780...</td>\n",
       "    </tr>\n",
       "  </tbody>\n",
       "</table>\n",
       "</div>"
      ],
      "text/plain": [
       "   id  date_timestamp                                               data\n",
       "0   5    1.585158e+09  {\"event\": \"user\", \"timestamp\": 1585157911.3968...\n",
       "1  13    1.585158e+09  {\"event\": \"user\", \"timestamp\": 1585157912.9197...\n",
       "2  17    1.585159e+09  {\"event\": \"user\", \"timestamp\": 1585158867.2471...\n",
       "3  25    1.585159e+09  {\"event\": \"user\", \"timestamp\": 1585158870.7418...\n",
       "4  29    1.585159e+09  {\"event\": \"user\", \"timestamp\": 1585158874.7780..."
      ]
     },
     "execution_count": 6,
     "metadata": {},
     "output_type": "execute_result"
    }
   ],
   "source": [
    "df.head()"
   ]
  },
  {
   "cell_type": "markdown",
   "metadata": {},
   "source": [
    "Verificando amostra do campo \"data\""
   ]
  },
  {
   "cell_type": "code",
   "execution_count": 69,
   "metadata": {},
   "outputs": [
    {
     "data": {
      "text/plain": [
       "{'event': 'user',\n",
       " 'timestamp': 1585157911.3968487,\n",
       " 'text': 'Oi',\n",
       " 'parse_data': {'intent': {'name': 'greet', 'confidence': 0.9729991555213928},\n",
       "  'entities': [],\n",
       "  'intent_ranking': [{'name': 'greet', 'confidence': 0.9729991555213928},\n",
       "   {'name': 'menu_cure', 'confidence': 0.01178001705557108},\n",
       "   {'name': 'doubts_coronavirus_confirmation',\n",
       "    'confidence': 0.002744596917182207},\n",
       "   {'name': 'doubts_no_symptoms_test', 'confidence': 0.002335932804271579},\n",
       "   {'name': 'menu_covid', 'confidence': 0.002097305841743946},\n",
       "   {'name': 'doubts_pandemic', 'confidence': 0.0019062263891100883},\n",
       "   {'name': 'deny', 'confidence': 0.0018673930317163467},\n",
       "   {'name': 'doubts_fever', 'confidence': 0.0017342010978609324},\n",
       "   {'name': 'menu_transmission', 'confidence': 0.0012740789679810405},\n",
       "   {'name': 'affirm', 'confidence': 0.0012611534912139177}],\n",
       "  'text': 'Oi'},\n",
       " 'input_channel': 'rest',\n",
       " 'message_id': '9bd6cd59ad634214a04c67fda9ab654d',\n",
       " 'metadata': {}}"
      ]
     },
     "execution_count": 69,
     "metadata": {},
     "output_type": "execute_result"
    }
   ],
   "source": [
    "json.loads(df[\"data\"].iloc[0])"
   ]
  },
  {
   "cell_type": "code",
   "execution_count": 107,
   "metadata": {},
   "outputs": [
    {
     "data": {
      "text/plain": [
       "'Tem algum remédio que eu posso tomar?'"
      ]
     },
     "execution_count": 107,
     "metadata": {},
     "output_type": "execute_result"
    }
   ],
   "source": [
    "#Exemplo aleatório de texto de mensagem\n",
    "text[9100]"
   ]
  },
  {
   "cell_type": "markdown",
   "metadata": {},
   "source": [
    "Aqui, nos interessa os campos *text*, relacionado a mensagem enviada, e *intent*, intenção classificada pelo chatbot."
   ]
  },
  {
   "cell_type": "code",
   "execution_count": 80,
   "metadata": {},
   "outputs": [],
   "source": [
    "text = df[\"data\"].apply(lambda row:  json.loads(str(row))[\"text\"])\n",
    "intent = df[\"data\"].apply(lambda row:  json.loads(str(row))[\"parse_data\"][\"intent\"][\"name\"])"
   ]
  },
  {
   "cell_type": "code",
   "execution_count": 81,
   "metadata": {},
   "outputs": [
    {
     "data": {
      "text/plain": [
       "0                     Oi\n",
       "1          Tirar dúvidas\n",
       "2                     Oi\n",
       "3          Tirar dúvidas\n",
       "4    Como é transmitido?\n",
       "Name: data, dtype: object"
      ]
     },
     "execution_count": 81,
     "metadata": {},
     "output_type": "execute_result"
    }
   ],
   "source": [
    "text.head()"
   ]
  },
  {
   "cell_type": "code",
   "execution_count": 82,
   "metadata": {},
   "outputs": [
    {
     "data": {
      "text/plain": [
       "0            greet\n",
       "1           doubts\n",
       "2            greet\n",
       "3           doubts\n",
       "4    doubts_spread\n",
       "Name: data, dtype: object"
      ]
     },
     "execution_count": 82,
     "metadata": {},
     "output_type": "execute_result"
    }
   ],
   "source": [
    "intent.head()"
   ]
  },
  {
   "cell_type": "markdown",
   "metadata": {},
   "source": [
    "Último passo para formatar o dataset na estrutura deseja é converter a coluna de timestamps para data:"
   ]
  },
  {
   "cell_type": "code",
   "execution_count": 94,
   "metadata": {},
   "outputs": [],
   "source": [
    "date = pd.to_datetime(df[\"date_timestamp\"],unit='s')"
   ]
  },
  {
   "cell_type": "code",
   "execution_count": 95,
   "metadata": {},
   "outputs": [
    {
     "data": {
      "text/plain": [
       "0   2020-03-25 17:38:31.396850109\n",
       "1   2020-03-25 17:38:32.919719934\n",
       "2   2020-03-25 17:54:27.247100115\n",
       "3   2020-03-25 17:54:30.741859913\n",
       "4   2020-03-25 17:54:34.778069973\n",
       "Name: date_timestamp, dtype: datetime64[ns]"
      ]
     },
     "execution_count": 95,
     "metadata": {},
     "output_type": "execute_result"
    }
   ],
   "source": [
    "date.head()"
   ]
  },
  {
   "cell_type": "markdown",
   "metadata": {},
   "source": [
    "## Generalizando para todo o dataset - Percorrendo todos os arquivos salvos e agregando o resultado em um único arquivo"
   ]
  },
  {
   "cell_type": "code",
   "execution_count": 97,
   "metadata": {},
   "outputs": [],
   "source": [
    "df.to_csv(\"laura_processed_data/teste.csv\", mode=\"a\", header=True, index=False)"
   ]
  },
  {
   "cell_type": "code",
   "execution_count": 101,
   "metadata": {},
   "outputs": [],
   "source": [
    "max_files = 126\n",
    "\n",
    "final_header = ['id', 'date', 'text', 'intent']\n",
    "    \n",
    "for index_file in range(max_files):\n",
    "    df = pd.read_csv('laura_extraction_data/'+str(index_file)+'_data.csv')\n",
    "    \n",
    "    #processamento e criação das colunas na estrutura final\n",
    "    df['text'] = df[\"data\"].apply(lambda row:  json.loads(str(row))[\"text\"])\n",
    "    df['intent'] = df[\"data\"].apply(lambda row:  json.loads(str(row))[\"parse_data\"][\"intent\"][\"name\"])\n",
    "    df['date'] = pd.to_datetime(df[\"date_timestamp\"],unit='s')\n",
    "    \n",
    "    #formatação na estrutura final do dataset\n",
    "    df = df[final_header]\n",
    "    \n",
    "    #append no arquivo único final do dataset\n",
    "    if index_file == 0 :\n",
    "        df.to_csv(\"laura_processed_data/dataset.csv\", header=True, index=False)\n",
    "    else: \n",
    "        df.to_csv(\"laura_processed_data/dataset.csv\", mode=\"a\", header=False, index=False)"
   ]
  },
  {
   "cell_type": "markdown",
   "metadata": {},
   "source": [
    "### Check do formato do dataset"
   ]
  },
  {
   "cell_type": "code",
   "execution_count": 103,
   "metadata": {},
   "outputs": [],
   "source": [
    "df = pd.read_csv('laura_processed_data/dataset.csv')"
   ]
  },
  {
   "cell_type": "code",
   "execution_count": 104,
   "metadata": {},
   "outputs": [
    {
     "data": {
      "text/plain": [
       "(1260000, 4)"
      ]
     },
     "execution_count": 104,
     "metadata": {},
     "output_type": "execute_result"
    }
   ],
   "source": [
    "df.shape"
   ]
  },
  {
   "cell_type": "markdown",
   "metadata": {},
   "source": [
    "O arquivo final conta com 1,26 milhão de mensagens, resultando em um csv de apenas 71MB, se comparado com os dados originais de extração, com seus 1,4GB."
   ]
  },
  {
   "cell_type": "code",
   "execution_count": 105,
   "metadata": {},
   "outputs": [
    {
     "data": {
      "text/html": [
       "<div>\n",
       "<style scoped>\n",
       "    .dataframe tbody tr th:only-of-type {\n",
       "        vertical-align: middle;\n",
       "    }\n",
       "\n",
       "    .dataframe tbody tr th {\n",
       "        vertical-align: top;\n",
       "    }\n",
       "\n",
       "    .dataframe thead th {\n",
       "        text-align: right;\n",
       "    }\n",
       "</style>\n",
       "<table border=\"1\" class=\"dataframe\">\n",
       "  <thead>\n",
       "    <tr style=\"text-align: right;\">\n",
       "      <th></th>\n",
       "      <th>id</th>\n",
       "      <th>date</th>\n",
       "      <th>text</th>\n",
       "      <th>intent</th>\n",
       "    </tr>\n",
       "  </thead>\n",
       "  <tbody>\n",
       "    <tr>\n",
       "      <th>0</th>\n",
       "      <td>5</td>\n",
       "      <td>2020-03-25 17:38:31.396850109</td>\n",
       "      <td>Oi</td>\n",
       "      <td>greet</td>\n",
       "    </tr>\n",
       "    <tr>\n",
       "      <th>1</th>\n",
       "      <td>13</td>\n",
       "      <td>2020-03-25 17:38:32.919719934</td>\n",
       "      <td>Tirar dúvidas</td>\n",
       "      <td>doubts</td>\n",
       "    </tr>\n",
       "    <tr>\n",
       "      <th>2</th>\n",
       "      <td>17</td>\n",
       "      <td>2020-03-25 17:54:27.247100115</td>\n",
       "      <td>Oi</td>\n",
       "      <td>greet</td>\n",
       "    </tr>\n",
       "    <tr>\n",
       "      <th>3</th>\n",
       "      <td>25</td>\n",
       "      <td>2020-03-25 17:54:30.741859913</td>\n",
       "      <td>Tirar dúvidas</td>\n",
       "      <td>doubts</td>\n",
       "    </tr>\n",
       "    <tr>\n",
       "      <th>4</th>\n",
       "      <td>29</td>\n",
       "      <td>2020-03-25 17:54:34.778069973</td>\n",
       "      <td>Como é transmitido?</td>\n",
       "      <td>doubts_spread</td>\n",
       "    </tr>\n",
       "    <tr>\n",
       "      <th>5</th>\n",
       "      <td>33</td>\n",
       "      <td>2020-03-25 17:54:58.205969810</td>\n",
       "      <td>Oi</td>\n",
       "      <td>greet</td>\n",
       "    </tr>\n",
       "    <tr>\n",
       "      <th>6</th>\n",
       "      <td>37</td>\n",
       "      <td>2020-03-25 17:55:22.034669876</td>\n",
       "      <td>/menu_fake_news</td>\n",
       "      <td>menu_fake_news</td>\n",
       "    </tr>\n",
       "    <tr>\n",
       "      <th>7</th>\n",
       "      <td>41</td>\n",
       "      <td>2020-03-25 17:55:43.279109955</td>\n",
       "      <td>Oi</td>\n",
       "      <td>greet</td>\n",
       "    </tr>\n",
       "    <tr>\n",
       "      <th>8</th>\n",
       "      <td>49</td>\n",
       "      <td>2020-03-25 17:55:46.308470011</td>\n",
       "      <td>oi</td>\n",
       "      <td>greet</td>\n",
       "    </tr>\n",
       "    <tr>\n",
       "      <th>9</th>\n",
       "      <td>53</td>\n",
       "      <td>2020-03-25 17:55:48.087310076</td>\n",
       "      <td>Oi</td>\n",
       "      <td>greet</td>\n",
       "    </tr>\n",
       "    <tr>\n",
       "      <th>10</th>\n",
       "      <td>57</td>\n",
       "      <td>2020-03-25 17:55:53.499880075</td>\n",
       "      <td>Tirar dúvidas</td>\n",
       "      <td>doubts</td>\n",
       "    </tr>\n",
       "    <tr>\n",
       "      <th>11</th>\n",
       "      <td>61</td>\n",
       "      <td>2020-03-25 17:56:00.247230053</td>\n",
       "      <td>Tirar dúvidas</td>\n",
       "      <td>doubts</td>\n",
       "    </tr>\n",
       "    <tr>\n",
       "      <th>12</th>\n",
       "      <td>65</td>\n",
       "      <td>2020-03-25 17:56:00.986059904</td>\n",
       "      <td>Como é transmitido?</td>\n",
       "      <td>doubts_spread</td>\n",
       "    </tr>\n",
       "    <tr>\n",
       "      <th>13</th>\n",
       "      <td>69</td>\n",
       "      <td>2020-03-25 17:58:17.967030048</td>\n",
       "      <td>Oi</td>\n",
       "      <td>greet</td>\n",
       "    </tr>\n",
       "    <tr>\n",
       "      <th>14</th>\n",
       "      <td>73</td>\n",
       "      <td>2020-03-25 17:58:19.580340147</td>\n",
       "      <td>Tirar dúvidas</td>\n",
       "      <td>doubts</td>\n",
       "    </tr>\n",
       "  </tbody>\n",
       "</table>\n",
       "</div>"
      ],
      "text/plain": [
       "    id                           date                 text          intent\n",
       "0    5  2020-03-25 17:38:31.396850109                   Oi           greet\n",
       "1   13  2020-03-25 17:38:32.919719934        Tirar dúvidas          doubts\n",
       "2   17  2020-03-25 17:54:27.247100115                   Oi           greet\n",
       "3   25  2020-03-25 17:54:30.741859913        Tirar dúvidas          doubts\n",
       "4   29  2020-03-25 17:54:34.778069973  Como é transmitido?   doubts_spread\n",
       "5   33  2020-03-25 17:54:58.205969810                   Oi           greet\n",
       "6   37  2020-03-25 17:55:22.034669876      /menu_fake_news  menu_fake_news\n",
       "7   41  2020-03-25 17:55:43.279109955                   Oi           greet\n",
       "8   49  2020-03-25 17:55:46.308470011                   oi           greet\n",
       "9   53  2020-03-25 17:55:48.087310076                   Oi           greet\n",
       "10  57  2020-03-25 17:55:53.499880075        Tirar dúvidas          doubts\n",
       "11  61  2020-03-25 17:56:00.247230053        Tirar dúvidas          doubts\n",
       "12  65  2020-03-25 17:56:00.986059904  Como é transmitido?   doubts_spread\n",
       "13  69  2020-03-25 17:58:17.967030048                   Oi           greet\n",
       "14  73  2020-03-25 17:58:19.580340147        Tirar dúvidas          doubts"
      ]
     },
     "execution_count": 105,
     "metadata": {},
     "output_type": "execute_result"
    }
   ],
   "source": [
    "df.head(15)"
   ]
  },
  {
   "cell_type": "code",
   "execution_count": 106,
   "metadata": {},
   "outputs": [
    {
     "data": {
      "text/html": [
       "<div>\n",
       "<style scoped>\n",
       "    .dataframe tbody tr th:only-of-type {\n",
       "        vertical-align: middle;\n",
       "    }\n",
       "\n",
       "    .dataframe tbody tr th {\n",
       "        vertical-align: top;\n",
       "    }\n",
       "\n",
       "    .dataframe thead th {\n",
       "        text-align: right;\n",
       "    }\n",
       "</style>\n",
       "<table border=\"1\" class=\"dataframe\">\n",
       "  <thead>\n",
       "    <tr style=\"text-align: right;\">\n",
       "      <th></th>\n",
       "      <th>id</th>\n",
       "      <th>date</th>\n",
       "      <th>text</th>\n",
       "      <th>intent</th>\n",
       "    </tr>\n",
       "  </thead>\n",
       "  <tbody>\n",
       "    <tr>\n",
       "      <th>1259985</th>\n",
       "      <td>11012742</td>\n",
       "      <td>2021-03-20 01:15:51.118249893</td>\n",
       "      <td>Oi</td>\n",
       "      <td>greet</td>\n",
       "    </tr>\n",
       "    <tr>\n",
       "      <th>1259986</th>\n",
       "      <td>11012749</td>\n",
       "      <td>2021-03-20 01:16:02.618750095</td>\n",
       "      <td>Oi</td>\n",
       "      <td>greet</td>\n",
       "    </tr>\n",
       "    <tr>\n",
       "      <th>1259987</th>\n",
       "      <td>11012756</td>\n",
       "      <td>2021-03-20 01:16:04.145190001</td>\n",
       "      <td>Oi</td>\n",
       "      <td>greet</td>\n",
       "    </tr>\n",
       "    <tr>\n",
       "      <th>1259988</th>\n",
       "      <td>11012767</td>\n",
       "      <td>2021-03-20 01:16:14.324190140</td>\n",
       "      <td>Oi</td>\n",
       "      <td>greet</td>\n",
       "    </tr>\n",
       "    <tr>\n",
       "      <th>1259989</th>\n",
       "      <td>11012778</td>\n",
       "      <td>2021-03-20 01:16:26.922549963</td>\n",
       "      <td>Oi</td>\n",
       "      <td>greet</td>\n",
       "    </tr>\n",
       "    <tr>\n",
       "      <th>1259990</th>\n",
       "      <td>11012789</td>\n",
       "      <td>2021-03-20 01:16:41.087939978</td>\n",
       "      <td>Oi</td>\n",
       "      <td>greet</td>\n",
       "    </tr>\n",
       "    <tr>\n",
       "      <th>1259991</th>\n",
       "      <td>11012800</td>\n",
       "      <td>2021-03-20 00:28:59.777280092</td>\n",
       "      <td>Oi</td>\n",
       "      <td>greet</td>\n",
       "    </tr>\n",
       "    <tr>\n",
       "      <th>1259992</th>\n",
       "      <td>11012807</td>\n",
       "      <td>2021-03-20 00:29:40.066390038</td>\n",
       "      <td>Oi</td>\n",
       "      <td>greet</td>\n",
       "    </tr>\n",
       "    <tr>\n",
       "      <th>1259993</th>\n",
       "      <td>11012814</td>\n",
       "      <td>2021-03-20 00:30:04.072669983</td>\n",
       "      <td>sbc ja esta dando sobra de vacinas</td>\n",
       "      <td>doubts_vaccine_order</td>\n",
       "    </tr>\n",
       "    <tr>\n",
       "      <th>1259994</th>\n",
       "      <td>11012818</td>\n",
       "      <td>2021-03-20 00:30:10.899530172</td>\n",
       "      <td>/doubts_vaccine_order</td>\n",
       "      <td>doubts_vaccine_order</td>\n",
       "    </tr>\n",
       "    <tr>\n",
       "      <th>1259995</th>\n",
       "      <td>11012823</td>\n",
       "      <td>2021-03-20 00:30:10.905200005</td>\n",
       "      <td>/doubts_vaccine_order</td>\n",
       "      <td>doubts_vaccine_order</td>\n",
       "    </tr>\n",
       "    <tr>\n",
       "      <th>1259996</th>\n",
       "      <td>11012835</td>\n",
       "      <td>2021-03-20 01:16:48.058519840</td>\n",
       "      <td>Oi</td>\n",
       "      <td>greet</td>\n",
       "    </tr>\n",
       "    <tr>\n",
       "      <th>1259997</th>\n",
       "      <td>11012846</td>\n",
       "      <td>2021-03-20 01:16:56.810960054</td>\n",
       "      <td>Oi</td>\n",
       "      <td>greet</td>\n",
       "    </tr>\n",
       "    <tr>\n",
       "      <th>1259998</th>\n",
       "      <td>11012853</td>\n",
       "      <td>2021-03-20 01:17:08.705539942</td>\n",
       "      <td>Oi</td>\n",
       "      <td>greet</td>\n",
       "    </tr>\n",
       "    <tr>\n",
       "      <th>1259999</th>\n",
       "      <td>11012864</td>\n",
       "      <td>2021-03-20 01:17:11.070960045</td>\n",
       "      <td>Oi</td>\n",
       "      <td>greet</td>\n",
       "    </tr>\n",
       "  </tbody>\n",
       "</table>\n",
       "</div>"
      ],
      "text/plain": [
       "               id                           date  \\\n",
       "1259985  11012742  2021-03-20 01:15:51.118249893   \n",
       "1259986  11012749  2021-03-20 01:16:02.618750095   \n",
       "1259987  11012756  2021-03-20 01:16:04.145190001   \n",
       "1259988  11012767  2021-03-20 01:16:14.324190140   \n",
       "1259989  11012778  2021-03-20 01:16:26.922549963   \n",
       "1259990  11012789  2021-03-20 01:16:41.087939978   \n",
       "1259991  11012800  2021-03-20 00:28:59.777280092   \n",
       "1259992  11012807  2021-03-20 00:29:40.066390038   \n",
       "1259993  11012814  2021-03-20 00:30:04.072669983   \n",
       "1259994  11012818  2021-03-20 00:30:10.899530172   \n",
       "1259995  11012823  2021-03-20 00:30:10.905200005   \n",
       "1259996  11012835  2021-03-20 01:16:48.058519840   \n",
       "1259997  11012846  2021-03-20 01:16:56.810960054   \n",
       "1259998  11012853  2021-03-20 01:17:08.705539942   \n",
       "1259999  11012864  2021-03-20 01:17:11.070960045   \n",
       "\n",
       "                                       text                intent  \n",
       "1259985                                  Oi                 greet  \n",
       "1259986                                  Oi                 greet  \n",
       "1259987                                  Oi                 greet  \n",
       "1259988                                  Oi                 greet  \n",
       "1259989                                  Oi                 greet  \n",
       "1259990                                  Oi                 greet  \n",
       "1259991                                  Oi                 greet  \n",
       "1259992                                  Oi                 greet  \n",
       "1259993  sbc ja esta dando sobra de vacinas  doubts_vaccine_order  \n",
       "1259994               /doubts_vaccine_order  doubts_vaccine_order  \n",
       "1259995               /doubts_vaccine_order  doubts_vaccine_order  \n",
       "1259996                                  Oi                 greet  \n",
       "1259997                                  Oi                 greet  \n",
       "1259998                                  Oi                 greet  \n",
       "1259999                                  Oi                 greet  "
      ]
     },
     "execution_count": 106,
     "metadata": {},
     "output_type": "execute_result"
    }
   ],
   "source": [
    "df.tail(15)"
   ]
  }
 ],
 "metadata": {
  "kernelspec": {
   "display_name": "Python 3",
   "language": "python",
   "name": "python3"
  },
  "language_info": {
   "codemirror_mode": {
    "name": "ipython",
    "version": 3
   },
   "file_extension": ".py",
   "mimetype": "text/x-python",
   "name": "python",
   "nbconvert_exporter": "python",
   "pygments_lexer": "ipython3",
   "version": "3.7.6"
  }
 },
 "nbformat": 4,
 "nbformat_minor": 4
}
