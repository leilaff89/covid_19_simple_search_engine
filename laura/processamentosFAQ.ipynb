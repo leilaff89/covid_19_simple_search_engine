{
 "cells": [
  {
   "cell_type": "markdown",
   "metadata": {},
   "source": [
    "# Universidade Tecnológica Federal do Paraná\n",
    "## Programa de Pós-Graduação em Computação Aplicada\n",
    "### Ciência de Dados 2 - 2021/1\n",
    "### Equipe Evolution:\n",
    "### Leila Fabiola Ferreira\n",
    "### Mateus Cichelero da Silva\n",
    "\n",
    "## Processamentos dos dados de Q&A sobre a pandemia, treinamento do classificador naive bayes e da máquina de buscas"
   ]
  },
  {
   "cell_type": "markdown",
   "metadata": {},
   "source": [
    "## Descrição:\n",
    "Considerando a última etapa de EDA do grupo, foram levantadas perguntas da base da Laura referentes a 43 dos principais tópicos encontrados. As perguntas foram rotuladas manualmente e no mínimo 10 variações de cada foram criadas para a base de treinamento supervisionada. \n",
    "As respostas apresentadas encontram-se em sites oficiais do Ministério da Saúde (https://www.gov.br/saude/pt-br/coronavirus/perguntas-e-respostas) e Fundação Oswaldo Cruz (https://portal.fiocruz.br/coronavirus/perguntas-e-respostas)\n",
    "\n",
    "Este notebook apresenta os processamentos realizados até a obtenção dos objetos serializados utilizados na aplicação web que pode ser encontrada em http://covid19-qa-ptbr.herokuapp.com/"
   ]
  },
  {
   "cell_type": "code",
   "execution_count": 3,
   "metadata": {},
   "outputs": [],
   "source": [
    "#!pip install -U spacy\n",
    "#!python -m spacy download pt_core_news_sm"
   ]
  },
  {
   "cell_type": "code",
   "execution_count": 44,
   "metadata": {},
   "outputs": [],
   "source": [
    "import spacy\n",
    "import string\n",
    "import nltk\n",
    "from nltk.corpus import stopwords, wordnet\n",
    "from nltk.tokenize import word_tokenize"
   ]
  },
  {
   "cell_type": "code",
   "execution_count": 5,
   "metadata": {},
   "outputs": [],
   "source": [
    "nlp = spacy.load('pt_core_news_md')"
   ]
  },
  {
   "cell_type": "code",
   "execution_count": 6,
   "metadata": {},
   "outputs": [],
   "source": [
    "import pandas as pd"
   ]
  },
  {
   "cell_type": "code",
   "execution_count": 64,
   "metadata": {},
   "outputs": [],
   "source": [
    "df_pergunta_topico = pd.read_csv('pergunta_topico.csv')\n",
    "df_topico_resposta = pd.read_csv('topico_resposta.csv')"
   ]
  },
  {
   "cell_type": "code",
   "execution_count": 148,
   "metadata": {},
   "outputs": [
    {
     "data": {
      "text/html": [
       "<div>\n",
       "<style scoped>\n",
       "    .dataframe tbody tr th:only-of-type {\n",
       "        vertical-align: middle;\n",
       "    }\n",
       "\n",
       "    .dataframe tbody tr th {\n",
       "        vertical-align: top;\n",
       "    }\n",
       "\n",
       "    .dataframe thead th {\n",
       "        text-align: right;\n",
       "    }\n",
       "</style>\n",
       "<table border=\"1\" class=\"dataframe\">\n",
       "  <thead>\n",
       "    <tr style=\"text-align: right;\">\n",
       "      <th></th>\n",
       "      <th>topico</th>\n",
       "      <th>resposta</th>\n",
       "    </tr>\n",
       "  </thead>\n",
       "  <tbody>\n",
       "    <tr>\n",
       "      <th>0</th>\n",
       "      <td>definicao_coronavirus</td>\n",
       "      <td>Os coronavírus são uma grande família de vírus...</td>\n",
       "    </tr>\n",
       "    <tr>\n",
       "      <th>1</th>\n",
       "      <td>acoes_doente</td>\n",
       "      <td>Se estiver doente, com sintomas compatíveis co...</td>\n",
       "    </tr>\n",
       "    <tr>\n",
       "      <th>2</th>\n",
       "      <td>covid_coronavirus</td>\n",
       "      <td>COVID-19 é a doença infecciosa causada pelo no...</td>\n",
       "    </tr>\n",
       "    <tr>\n",
       "      <th>3</th>\n",
       "      <td>infeccao</td>\n",
       "      <td>O Brasil vivencia em muitos municípios a trans...</td>\n",
       "    </tr>\n",
       "    <tr>\n",
       "      <th>4</th>\n",
       "      <td>grupo_risco</td>\n",
       "      <td>Pessoas idosas e pessoas com condições médicas...</td>\n",
       "    </tr>\n",
       "  </tbody>\n",
       "</table>\n",
       "</div>"
      ],
      "text/plain": [
       "                  topico                                           resposta\n",
       "0  definicao_coronavirus  Os coronavírus são uma grande família de vírus...\n",
       "1           acoes_doente  Se estiver doente, com sintomas compatíveis co...\n",
       "2      covid_coronavirus  COVID-19 é a doença infecciosa causada pelo no...\n",
       "3               infeccao  O Brasil vivencia em muitos municípios a trans...\n",
       "4            grupo_risco  Pessoas idosas e pessoas com condições médicas..."
      ]
     },
     "execution_count": 148,
     "metadata": {},
     "output_type": "execute_result"
    }
   ],
   "source": [
    "df_topico_resposta.head()"
   ]
  },
  {
   "cell_type": "code",
   "execution_count": 65,
   "metadata": {},
   "outputs": [
    {
     "data": {
      "text/plain": [
       "(447, 2)"
      ]
     },
     "execution_count": 65,
     "metadata": {},
     "output_type": "execute_result"
    }
   ],
   "source": [
    "df_pergunta_topico.shape"
   ]
  },
  {
   "cell_type": "code",
   "execution_count": 66,
   "metadata": {},
   "outputs": [
    {
     "data": {
      "text/html": [
       "<div>\n",
       "<style scoped>\n",
       "    .dataframe tbody tr th:only-of-type {\n",
       "        vertical-align: middle;\n",
       "    }\n",
       "\n",
       "    .dataframe tbody tr th {\n",
       "        vertical-align: top;\n",
       "    }\n",
       "\n",
       "    .dataframe thead th {\n",
       "        text-align: right;\n",
       "    }\n",
       "</style>\n",
       "<table border=\"1\" class=\"dataframe\">\n",
       "  <thead>\n",
       "    <tr style=\"text-align: right;\">\n",
       "      <th></th>\n",
       "      <th>pergunta</th>\n",
       "      <th>topico</th>\n",
       "    </tr>\n",
       "  </thead>\n",
       "  <tbody>\n",
       "    <tr>\n",
       "      <th>0</th>\n",
       "      <td>O que é o coronavírus?</td>\n",
       "      <td>definicao_coronavirus</td>\n",
       "    </tr>\n",
       "    <tr>\n",
       "      <th>1</th>\n",
       "      <td>o que é o novo coronavirus?</td>\n",
       "      <td>definicao_coronavirus</td>\n",
       "    </tr>\n",
       "    <tr>\n",
       "      <th>2</th>\n",
       "      <td>o que é o corona?</td>\n",
       "      <td>definicao_coronavirus</td>\n",
       "    </tr>\n",
       "    <tr>\n",
       "      <th>3</th>\n",
       "      <td>do que se trata esse vírus?</td>\n",
       "      <td>definicao_coronavirus</td>\n",
       "    </tr>\n",
       "    <tr>\n",
       "      <th>4</th>\n",
       "      <td>o que é o vírus?</td>\n",
       "      <td>definicao_coronavirus</td>\n",
       "    </tr>\n",
       "  </tbody>\n",
       "</table>\n",
       "</div>"
      ],
      "text/plain": [
       "                      pergunta                 topico\n",
       "0       O que é o coronavírus?  definicao_coronavirus\n",
       "1  o que é o novo coronavirus?  definicao_coronavirus\n",
       "2            o que é o corona?  definicao_coronavirus\n",
       "3  do que se trata esse vírus?  definicao_coronavirus\n",
       "4             o que é o vírus?  definicao_coronavirus"
      ]
     },
     "execution_count": 66,
     "metadata": {},
     "output_type": "execute_result"
    }
   ],
   "source": [
    "df_pergunta_topico.head()"
   ]
  },
  {
   "cell_type": "code",
   "execution_count": 67,
   "metadata": {},
   "outputs": [],
   "source": [
    "df_pergunta_topico['token_lemma'] = df_pergunta_topico['pergunta'].apply(lambda x: [tok.lemma_ for tok in nlp(x)])"
   ]
  },
  {
   "cell_type": "code",
   "execution_count": 69,
   "metadata": {},
   "outputs": [
    {
     "data": {
      "text/html": [
       "<div>\n",
       "<style scoped>\n",
       "    .dataframe tbody tr th:only-of-type {\n",
       "        vertical-align: middle;\n",
       "    }\n",
       "\n",
       "    .dataframe tbody tr th {\n",
       "        vertical-align: top;\n",
       "    }\n",
       "\n",
       "    .dataframe thead th {\n",
       "        text-align: right;\n",
       "    }\n",
       "</style>\n",
       "<table border=\"1\" class=\"dataframe\">\n",
       "  <thead>\n",
       "    <tr style=\"text-align: right;\">\n",
       "      <th></th>\n",
       "      <th>pergunta</th>\n",
       "      <th>topico</th>\n",
       "      <th>token_lemma</th>\n",
       "    </tr>\n",
       "  </thead>\n",
       "  <tbody>\n",
       "    <tr>\n",
       "      <th>0</th>\n",
       "      <td>O que é o coronavírus?</td>\n",
       "      <td>definicao_coronavirus</td>\n",
       "      <td>[O, que, ser, o, coronavírus, ?]</td>\n",
       "    </tr>\n",
       "    <tr>\n",
       "      <th>1</th>\n",
       "      <td>o que é o novo coronavirus?</td>\n",
       "      <td>definicao_coronavirus</td>\n",
       "      <td>[o, que, ser, o, novo, coronavirus, ?]</td>\n",
       "    </tr>\n",
       "    <tr>\n",
       "      <th>2</th>\n",
       "      <td>o que é o corona?</td>\n",
       "      <td>definicao_coronavirus</td>\n",
       "      <td>[o, que, ser, o, corona, ?]</td>\n",
       "    </tr>\n",
       "    <tr>\n",
       "      <th>3</th>\n",
       "      <td>do que se trata esse vírus?</td>\n",
       "      <td>definicao_coronavirus</td>\n",
       "      <td>[do, que, se, tratar, esse, vírus, ?]</td>\n",
       "    </tr>\n",
       "    <tr>\n",
       "      <th>4</th>\n",
       "      <td>o que é o vírus?</td>\n",
       "      <td>definicao_coronavirus</td>\n",
       "      <td>[o, que, ser, o, vírus, ?]</td>\n",
       "    </tr>\n",
       "  </tbody>\n",
       "</table>\n",
       "</div>"
      ],
      "text/plain": [
       "                      pergunta                 topico  \\\n",
       "0       O que é o coronavírus?  definicao_coronavirus   \n",
       "1  o que é o novo coronavirus?  definicao_coronavirus   \n",
       "2            o que é o corona?  definicao_coronavirus   \n",
       "3  do que se trata esse vírus?  definicao_coronavirus   \n",
       "4             o que é o vírus?  definicao_coronavirus   \n",
       "\n",
       "                              token_lemma  \n",
       "0        [O, que, ser, o, coronavírus, ?]  \n",
       "1  [o, que, ser, o, novo, coronavirus, ?]  \n",
       "2             [o, que, ser, o, corona, ?]  \n",
       "3   [do, que, se, tratar, esse, vírus, ?]  \n",
       "4              [o, que, ser, o, vírus, ?]  "
      ]
     },
     "execution_count": 69,
     "metadata": {},
     "output_type": "execute_result"
    }
   ],
   "source": [
    "df_pergunta_topico.head()"
   ]
  },
  {
   "cell_type": "code",
   "execution_count": 70,
   "metadata": {},
   "outputs": [],
   "source": [
    "punc = string.punctuation.replace('?','') "
   ]
  },
  {
   "cell_type": "code",
   "execution_count": 71,
   "metadata": {},
   "outputs": [],
   "source": [
    "import unicodedata\n",
    "import re\n",
    "\n",
    "\"\"\"\n",
    "A remoção de acentos foi baseada em uma resposta no Stack Overflow.\n",
    "http://stackoverflow.com/a/517974/3464573\n",
    "\"\"\"\n",
    "\n",
    "def removerAcentosECaracteresEspeciais(palavra):\n",
    "\n",
    "    # Unicode normalize transforma um caracter em seu equivalente em latin.\n",
    "    nfkd = unicodedata.normalize('NFKD', palavra)\n",
    "    palavraSemAcento = u\"\".join([c for c in nfkd if not unicodedata.combining(c)])\n",
    "\n",
    "    # Usa expressão regular para retornar a palavra apenas com números, letras e espaço\n",
    "    return re.sub('[^a-zA-Z0-9? \\\\\\]', '', palavraSemAcento)"
   ]
  },
  {
   "cell_type": "code",
   "execution_count": 86,
   "metadata": {},
   "outputs": [],
   "source": [
    "stop_words = set(stopwords.words('portuguese'))\n",
    "stop_words_en = set(stopwords.words('english'))"
   ]
  },
  {
   "cell_type": "code",
   "execution_count": 73,
   "metadata": {},
   "outputs": [],
   "source": [
    "df_pergunta_topico['lower'] = df_pergunta_topico['token_lemma'].apply(lambda x: [word.lower() for word in x])"
   ]
  },
  {
   "cell_type": "code",
   "execution_count": 74,
   "metadata": {},
   "outputs": [],
   "source": [
    "df_pergunta_topico['no_punc'] = df_pergunta_topico['lower'].apply(lambda x: [word for word in x if word not in punc])\n",
    "df_pergunta_topico['no_punc_accen'] = df_pergunta_topico['no_punc'].apply(lambda x: [removerAcentosECaracteresEspeciais(word) for word in x])\n",
    "df_pergunta_topico['stopwords_removed'] = df_pergunta_topico['no_punc_accen'].apply(lambda x: [word for word in x if word not in stop_words])"
   ]
  },
  {
   "cell_type": "code",
   "execution_count": 75,
   "metadata": {},
   "outputs": [
    {
     "data": {
      "text/html": [
       "<div>\n",
       "<style scoped>\n",
       "    .dataframe tbody tr th:only-of-type {\n",
       "        vertical-align: middle;\n",
       "    }\n",
       "\n",
       "    .dataframe tbody tr th {\n",
       "        vertical-align: top;\n",
       "    }\n",
       "\n",
       "    .dataframe thead th {\n",
       "        text-align: right;\n",
       "    }\n",
       "</style>\n",
       "<table border=\"1\" class=\"dataframe\">\n",
       "  <thead>\n",
       "    <tr style=\"text-align: right;\">\n",
       "      <th></th>\n",
       "      <th>pergunta</th>\n",
       "      <th>topico</th>\n",
       "      <th>token_lemma</th>\n",
       "      <th>lower</th>\n",
       "      <th>no_punc</th>\n",
       "      <th>no_punc_accen</th>\n",
       "      <th>stopwords_removed</th>\n",
       "    </tr>\n",
       "  </thead>\n",
       "  <tbody>\n",
       "    <tr>\n",
       "      <th>0</th>\n",
       "      <td>O que é o coronavírus?</td>\n",
       "      <td>definicao_coronavirus</td>\n",
       "      <td>[O, que, ser, o, coronavírus, ?]</td>\n",
       "      <td>[o, que, ser, o, coronavírus, ?]</td>\n",
       "      <td>[o, que, ser, o, coronavírus, ?]</td>\n",
       "      <td>[o, que, ser, o, coronavirus, ?]</td>\n",
       "      <td>[ser, coronavirus, ?]</td>\n",
       "    </tr>\n",
       "    <tr>\n",
       "      <th>1</th>\n",
       "      <td>o que é o novo coronavirus?</td>\n",
       "      <td>definicao_coronavirus</td>\n",
       "      <td>[o, que, ser, o, novo, coronavirus, ?]</td>\n",
       "      <td>[o, que, ser, o, novo, coronavirus, ?]</td>\n",
       "      <td>[o, que, ser, o, novo, coronavirus, ?]</td>\n",
       "      <td>[o, que, ser, o, novo, coronavirus, ?]</td>\n",
       "      <td>[ser, novo, coronavirus, ?]</td>\n",
       "    </tr>\n",
       "    <tr>\n",
       "      <th>2</th>\n",
       "      <td>o que é o corona?</td>\n",
       "      <td>definicao_coronavirus</td>\n",
       "      <td>[o, que, ser, o, corona, ?]</td>\n",
       "      <td>[o, que, ser, o, corona, ?]</td>\n",
       "      <td>[o, que, ser, o, corona, ?]</td>\n",
       "      <td>[o, que, ser, o, corona, ?]</td>\n",
       "      <td>[ser, corona, ?]</td>\n",
       "    </tr>\n",
       "    <tr>\n",
       "      <th>3</th>\n",
       "      <td>do que se trata esse vírus?</td>\n",
       "      <td>definicao_coronavirus</td>\n",
       "      <td>[do, que, se, tratar, esse, vírus, ?]</td>\n",
       "      <td>[do, que, se, tratar, esse, vírus, ?]</td>\n",
       "      <td>[do, que, se, tratar, esse, vírus, ?]</td>\n",
       "      <td>[do, que, se, tratar, esse, virus, ?]</td>\n",
       "      <td>[tratar, virus, ?]</td>\n",
       "    </tr>\n",
       "    <tr>\n",
       "      <th>4</th>\n",
       "      <td>o que é o vírus?</td>\n",
       "      <td>definicao_coronavirus</td>\n",
       "      <td>[o, que, ser, o, vírus, ?]</td>\n",
       "      <td>[o, que, ser, o, vírus, ?]</td>\n",
       "      <td>[o, que, ser, o, vírus, ?]</td>\n",
       "      <td>[o, que, ser, o, virus, ?]</td>\n",
       "      <td>[ser, virus, ?]</td>\n",
       "    </tr>\n",
       "  </tbody>\n",
       "</table>\n",
       "</div>"
      ],
      "text/plain": [
       "                      pergunta                 topico  \\\n",
       "0       O que é o coronavírus?  definicao_coronavirus   \n",
       "1  o que é o novo coronavirus?  definicao_coronavirus   \n",
       "2            o que é o corona?  definicao_coronavirus   \n",
       "3  do que se trata esse vírus?  definicao_coronavirus   \n",
       "4             o que é o vírus?  definicao_coronavirus   \n",
       "\n",
       "                              token_lemma  \\\n",
       "0        [O, que, ser, o, coronavírus, ?]   \n",
       "1  [o, que, ser, o, novo, coronavirus, ?]   \n",
       "2             [o, que, ser, o, corona, ?]   \n",
       "3   [do, que, se, tratar, esse, vírus, ?]   \n",
       "4              [o, que, ser, o, vírus, ?]   \n",
       "\n",
       "                                    lower  \\\n",
       "0        [o, que, ser, o, coronavírus, ?]   \n",
       "1  [o, que, ser, o, novo, coronavirus, ?]   \n",
       "2             [o, que, ser, o, corona, ?]   \n",
       "3   [do, que, se, tratar, esse, vírus, ?]   \n",
       "4              [o, que, ser, o, vírus, ?]   \n",
       "\n",
       "                                  no_punc  \\\n",
       "0        [o, que, ser, o, coronavírus, ?]   \n",
       "1  [o, que, ser, o, novo, coronavirus, ?]   \n",
       "2             [o, que, ser, o, corona, ?]   \n",
       "3   [do, que, se, tratar, esse, vírus, ?]   \n",
       "4              [o, que, ser, o, vírus, ?]   \n",
       "\n",
       "                            no_punc_accen            stopwords_removed  \n",
       "0        [o, que, ser, o, coronavirus, ?]        [ser, coronavirus, ?]  \n",
       "1  [o, que, ser, o, novo, coronavirus, ?]  [ser, novo, coronavirus, ?]  \n",
       "2             [o, que, ser, o, corona, ?]             [ser, corona, ?]  \n",
       "3   [do, que, se, tratar, esse, virus, ?]           [tratar, virus, ?]  \n",
       "4              [o, que, ser, o, virus, ?]              [ser, virus, ?]  "
      ]
     },
     "execution_count": 75,
     "metadata": {},
     "output_type": "execute_result"
    }
   ],
   "source": [
    "df_pergunta_topico.head()"
   ]
  },
  {
   "cell_type": "code",
   "execution_count": 77,
   "metadata": {},
   "outputs": [
    {
     "data": {
      "text/plain": [
       "['acoes', 'dever', 'tomar', 'estar', 'doente', '?']"
      ]
     },
     "execution_count": 77,
     "metadata": {},
     "output_type": "execute_result"
    }
   ],
   "source": [
    "df_pergunta_topico['stopwords_removed'].min()"
   ]
  },
  {
   "cell_type": "markdown",
   "metadata": {},
   "source": [
    "# Preparando tradução das perguntas-base para inglês:"
   ]
  },
  {
   "cell_type": "code",
   "execution_count": 78,
   "metadata": {},
   "outputs": [],
   "source": [
    "from translate import Translator"
   ]
  },
  {
   "cell_type": "code",
   "execution_count": 79,
   "metadata": {},
   "outputs": [],
   "source": [
    "translator= Translator(from_lang='pt',to_lang=\"en\")"
   ]
  },
  {
   "cell_type": "code",
   "execution_count": 82,
   "metadata": {},
   "outputs": [],
   "source": [
    "df_pergunta_topico['pergunta_en'] = df_pergunta_topico['pergunta'].apply(lambda x: translator.translate(x))"
   ]
  },
  {
   "cell_type": "code",
   "execution_count": 83,
   "metadata": {},
   "outputs": [
    {
     "data": {
      "text/html": [
       "<div>\n",
       "<style scoped>\n",
       "    .dataframe tbody tr th:only-of-type {\n",
       "        vertical-align: middle;\n",
       "    }\n",
       "\n",
       "    .dataframe tbody tr th {\n",
       "        vertical-align: top;\n",
       "    }\n",
       "\n",
       "    .dataframe thead th {\n",
       "        text-align: right;\n",
       "    }\n",
       "</style>\n",
       "<table border=\"1\" class=\"dataframe\">\n",
       "  <thead>\n",
       "    <tr style=\"text-align: right;\">\n",
       "      <th></th>\n",
       "      <th>pergunta</th>\n",
       "      <th>topico</th>\n",
       "      <th>token_lemma</th>\n",
       "      <th>lower</th>\n",
       "      <th>no_punc</th>\n",
       "      <th>no_punc_accen</th>\n",
       "      <th>stopwords_removed</th>\n",
       "      <th>pergunta_en</th>\n",
       "    </tr>\n",
       "  </thead>\n",
       "  <tbody>\n",
       "    <tr>\n",
       "      <th>0</th>\n",
       "      <td>O que é o coronavírus?</td>\n",
       "      <td>definicao_coronavirus</td>\n",
       "      <td>[O, que, ser, o, coronavírus, ?]</td>\n",
       "      <td>[o, que, ser, o, coronavírus, ?]</td>\n",
       "      <td>[o, que, ser, o, coronavírus, ?]</td>\n",
       "      <td>[o, que, ser, o, coronavirus, ?]</td>\n",
       "      <td>[ser, coronavirus, ?]</td>\n",
       "      <td>What is coronavirus?</td>\n",
       "    </tr>\n",
       "    <tr>\n",
       "      <th>1</th>\n",
       "      <td>o que é o novo coronavirus?</td>\n",
       "      <td>definicao_coronavirus</td>\n",
       "      <td>[o, que, ser, o, novo, coronavirus, ?]</td>\n",
       "      <td>[o, que, ser, o, novo, coronavirus, ?]</td>\n",
       "      <td>[o, que, ser, o, novo, coronavirus, ?]</td>\n",
       "      <td>[o, que, ser, o, novo, coronavirus, ?]</td>\n",
       "      <td>[ser, novo, coronavirus, ?]</td>\n",
       "      <td>what is the new coronavirus?</td>\n",
       "    </tr>\n",
       "    <tr>\n",
       "      <th>2</th>\n",
       "      <td>o que é o corona?</td>\n",
       "      <td>definicao_coronavirus</td>\n",
       "      <td>[o, que, ser, o, corona, ?]</td>\n",
       "      <td>[o, que, ser, o, corona, ?]</td>\n",
       "      <td>[o, que, ser, o, corona, ?]</td>\n",
       "      <td>[o, que, ser, o, corona, ?]</td>\n",
       "      <td>[ser, corona, ?]</td>\n",
       "      <td>what is the corona?</td>\n",
       "    </tr>\n",
       "    <tr>\n",
       "      <th>3</th>\n",
       "      <td>do que se trata esse vírus?</td>\n",
       "      <td>definicao_coronavirus</td>\n",
       "      <td>[do, que, se, tratar, esse, vírus, ?]</td>\n",
       "      <td>[do, que, se, tratar, esse, vírus, ?]</td>\n",
       "      <td>[do, que, se, tratar, esse, vírus, ?]</td>\n",
       "      <td>[do, que, se, tratar, esse, virus, ?]</td>\n",
       "      <td>[tratar, virus, ?]</td>\n",
       "      <td>what is this virus about?</td>\n",
       "    </tr>\n",
       "    <tr>\n",
       "      <th>4</th>\n",
       "      <td>o que é o vírus?</td>\n",
       "      <td>definicao_coronavirus</td>\n",
       "      <td>[o, que, ser, o, vírus, ?]</td>\n",
       "      <td>[o, que, ser, o, vírus, ?]</td>\n",
       "      <td>[o, que, ser, o, vírus, ?]</td>\n",
       "      <td>[o, que, ser, o, virus, ?]</td>\n",
       "      <td>[ser, virus, ?]</td>\n",
       "      <td>what is the virus?</td>\n",
       "    </tr>\n",
       "  </tbody>\n",
       "</table>\n",
       "</div>"
      ],
      "text/plain": [
       "                      pergunta                 topico  \\\n",
       "0       O que é o coronavírus?  definicao_coronavirus   \n",
       "1  o que é o novo coronavirus?  definicao_coronavirus   \n",
       "2            o que é o corona?  definicao_coronavirus   \n",
       "3  do que se trata esse vírus?  definicao_coronavirus   \n",
       "4             o que é o vírus?  definicao_coronavirus   \n",
       "\n",
       "                              token_lemma  \\\n",
       "0        [O, que, ser, o, coronavírus, ?]   \n",
       "1  [o, que, ser, o, novo, coronavirus, ?]   \n",
       "2             [o, que, ser, o, corona, ?]   \n",
       "3   [do, que, se, tratar, esse, vírus, ?]   \n",
       "4              [o, que, ser, o, vírus, ?]   \n",
       "\n",
       "                                    lower  \\\n",
       "0        [o, que, ser, o, coronavírus, ?]   \n",
       "1  [o, que, ser, o, novo, coronavirus, ?]   \n",
       "2             [o, que, ser, o, corona, ?]   \n",
       "3   [do, que, se, tratar, esse, vírus, ?]   \n",
       "4              [o, que, ser, o, vírus, ?]   \n",
       "\n",
       "                                  no_punc  \\\n",
       "0        [o, que, ser, o, coronavírus, ?]   \n",
       "1  [o, que, ser, o, novo, coronavirus, ?]   \n",
       "2             [o, que, ser, o, corona, ?]   \n",
       "3   [do, que, se, tratar, esse, vírus, ?]   \n",
       "4              [o, que, ser, o, vírus, ?]   \n",
       "\n",
       "                            no_punc_accen            stopwords_removed  \\\n",
       "0        [o, que, ser, o, coronavirus, ?]        [ser, coronavirus, ?]   \n",
       "1  [o, que, ser, o, novo, coronavirus, ?]  [ser, novo, coronavirus, ?]   \n",
       "2             [o, que, ser, o, corona, ?]             [ser, corona, ?]   \n",
       "3   [do, que, se, tratar, esse, virus, ?]           [tratar, virus, ?]   \n",
       "4              [o, que, ser, o, virus, ?]              [ser, virus, ?]   \n",
       "\n",
       "                    pergunta_en  \n",
       "0          What is coronavirus?  \n",
       "1  what is the new coronavirus?  \n",
       "2           what is the corona?  \n",
       "3     what is this virus about?  \n",
       "4            what is the virus?  "
      ]
     },
     "execution_count": 83,
     "metadata": {},
     "output_type": "execute_result"
    }
   ],
   "source": [
    "df_pergunta_topico.head()"
   ]
  },
  {
   "cell_type": "code",
   "execution_count": 84,
   "metadata": {},
   "outputs": [
    {
     "data": {
      "text/plain": [
       "'what should i do if i am sick?'"
      ]
     },
     "execution_count": 84,
     "metadata": {},
     "output_type": "execute_result"
    }
   ],
   "source": [
    "df_pergunta_topico['pergunta_en'].max()"
   ]
  },
  {
   "cell_type": "code",
   "execution_count": 85,
   "metadata": {},
   "outputs": [],
   "source": [
    "nlp_en = spacy.load('en_core_web_sm')"
   ]
  },
  {
   "cell_type": "code",
   "execution_count": 87,
   "metadata": {},
   "outputs": [],
   "source": [
    "df_pergunta_topico['token_lemma_en'] = df_pergunta_topico['pergunta_en'].apply(lambda x: [tok.lemma_ for tok in nlp_en(x)])\n",
    "df_pergunta_topico['lower_en'] = df_pergunta_topico['token_lemma_en'].apply(lambda x: [word.lower() for word in x])\n",
    "df_pergunta_topico['stopwords_removed_en'] = df_pergunta_topico['lower_en'].apply(lambda x: [word for word in x if word not in stop_words_en])"
   ]
  },
  {
   "cell_type": "code",
   "execution_count": 88,
   "metadata": {},
   "outputs": [
    {
     "data": {
      "text/html": [
       "<div>\n",
       "<style scoped>\n",
       "    .dataframe tbody tr th:only-of-type {\n",
       "        vertical-align: middle;\n",
       "    }\n",
       "\n",
       "    .dataframe tbody tr th {\n",
       "        vertical-align: top;\n",
       "    }\n",
       "\n",
       "    .dataframe thead th {\n",
       "        text-align: right;\n",
       "    }\n",
       "</style>\n",
       "<table border=\"1\" class=\"dataframe\">\n",
       "  <thead>\n",
       "    <tr style=\"text-align: right;\">\n",
       "      <th></th>\n",
       "      <th>pergunta</th>\n",
       "      <th>topico</th>\n",
       "      <th>token_lemma</th>\n",
       "      <th>lower</th>\n",
       "      <th>no_punc</th>\n",
       "      <th>no_punc_accen</th>\n",
       "      <th>stopwords_removed</th>\n",
       "      <th>pergunta_en</th>\n",
       "      <th>token_lemma_en</th>\n",
       "      <th>lower_en</th>\n",
       "      <th>stopwords_removed_en</th>\n",
       "    </tr>\n",
       "  </thead>\n",
       "  <tbody>\n",
       "    <tr>\n",
       "      <th>0</th>\n",
       "      <td>O que é o coronavírus?</td>\n",
       "      <td>definicao_coronavirus</td>\n",
       "      <td>[O, que, ser, o, coronavírus, ?]</td>\n",
       "      <td>[o, que, ser, o, coronavírus, ?]</td>\n",
       "      <td>[o, que, ser, o, coronavírus, ?]</td>\n",
       "      <td>[o, que, ser, o, coronavirus, ?]</td>\n",
       "      <td>[ser, coronavirus, ?]</td>\n",
       "      <td>What is coronavirus?</td>\n",
       "      <td>[what, be, coronavirus, ?]</td>\n",
       "      <td>[what, be, coronavirus, ?]</td>\n",
       "      <td>[coronavirus, ?]</td>\n",
       "    </tr>\n",
       "    <tr>\n",
       "      <th>1</th>\n",
       "      <td>o que é o novo coronavirus?</td>\n",
       "      <td>definicao_coronavirus</td>\n",
       "      <td>[o, que, ser, o, novo, coronavirus, ?]</td>\n",
       "      <td>[o, que, ser, o, novo, coronavirus, ?]</td>\n",
       "      <td>[o, que, ser, o, novo, coronavirus, ?]</td>\n",
       "      <td>[o, que, ser, o, novo, coronavirus, ?]</td>\n",
       "      <td>[ser, novo, coronavirus, ?]</td>\n",
       "      <td>what is the new coronavirus?</td>\n",
       "      <td>[what, be, the, new, coronavirus, ?]</td>\n",
       "      <td>[what, be, the, new, coronavirus, ?]</td>\n",
       "      <td>[new, coronavirus, ?]</td>\n",
       "    </tr>\n",
       "    <tr>\n",
       "      <th>2</th>\n",
       "      <td>o que é o corona?</td>\n",
       "      <td>definicao_coronavirus</td>\n",
       "      <td>[o, que, ser, o, corona, ?]</td>\n",
       "      <td>[o, que, ser, o, corona, ?]</td>\n",
       "      <td>[o, que, ser, o, corona, ?]</td>\n",
       "      <td>[o, que, ser, o, corona, ?]</td>\n",
       "      <td>[ser, corona, ?]</td>\n",
       "      <td>what is the corona?</td>\n",
       "      <td>[what, be, the, corona, ?]</td>\n",
       "      <td>[what, be, the, corona, ?]</td>\n",
       "      <td>[corona, ?]</td>\n",
       "    </tr>\n",
       "    <tr>\n",
       "      <th>3</th>\n",
       "      <td>do que se trata esse vírus?</td>\n",
       "      <td>definicao_coronavirus</td>\n",
       "      <td>[do, que, se, tratar, esse, vírus, ?]</td>\n",
       "      <td>[do, que, se, tratar, esse, vírus, ?]</td>\n",
       "      <td>[do, que, se, tratar, esse, vírus, ?]</td>\n",
       "      <td>[do, que, se, tratar, esse, virus, ?]</td>\n",
       "      <td>[tratar, virus, ?]</td>\n",
       "      <td>what is this virus about?</td>\n",
       "      <td>[what, be, this, virus, about, ?]</td>\n",
       "      <td>[what, be, this, virus, about, ?]</td>\n",
       "      <td>[virus, ?]</td>\n",
       "    </tr>\n",
       "    <tr>\n",
       "      <th>4</th>\n",
       "      <td>o que é o vírus?</td>\n",
       "      <td>definicao_coronavirus</td>\n",
       "      <td>[o, que, ser, o, vírus, ?]</td>\n",
       "      <td>[o, que, ser, o, vírus, ?]</td>\n",
       "      <td>[o, que, ser, o, vírus, ?]</td>\n",
       "      <td>[o, que, ser, o, virus, ?]</td>\n",
       "      <td>[ser, virus, ?]</td>\n",
       "      <td>what is the virus?</td>\n",
       "      <td>[what, be, the, virus, ?]</td>\n",
       "      <td>[what, be, the, virus, ?]</td>\n",
       "      <td>[virus, ?]</td>\n",
       "    </tr>\n",
       "  </tbody>\n",
       "</table>\n",
       "</div>"
      ],
      "text/plain": [
       "                      pergunta                 topico  \\\n",
       "0       O que é o coronavírus?  definicao_coronavirus   \n",
       "1  o que é o novo coronavirus?  definicao_coronavirus   \n",
       "2            o que é o corona?  definicao_coronavirus   \n",
       "3  do que se trata esse vírus?  definicao_coronavirus   \n",
       "4             o que é o vírus?  definicao_coronavirus   \n",
       "\n",
       "                              token_lemma  \\\n",
       "0        [O, que, ser, o, coronavírus, ?]   \n",
       "1  [o, que, ser, o, novo, coronavirus, ?]   \n",
       "2             [o, que, ser, o, corona, ?]   \n",
       "3   [do, que, se, tratar, esse, vírus, ?]   \n",
       "4              [o, que, ser, o, vírus, ?]   \n",
       "\n",
       "                                    lower  \\\n",
       "0        [o, que, ser, o, coronavírus, ?]   \n",
       "1  [o, que, ser, o, novo, coronavirus, ?]   \n",
       "2             [o, que, ser, o, corona, ?]   \n",
       "3   [do, que, se, tratar, esse, vírus, ?]   \n",
       "4              [o, que, ser, o, vírus, ?]   \n",
       "\n",
       "                                  no_punc  \\\n",
       "0        [o, que, ser, o, coronavírus, ?]   \n",
       "1  [o, que, ser, o, novo, coronavirus, ?]   \n",
       "2             [o, que, ser, o, corona, ?]   \n",
       "3   [do, que, se, tratar, esse, vírus, ?]   \n",
       "4              [o, que, ser, o, vírus, ?]   \n",
       "\n",
       "                            no_punc_accen            stopwords_removed  \\\n",
       "0        [o, que, ser, o, coronavirus, ?]        [ser, coronavirus, ?]   \n",
       "1  [o, que, ser, o, novo, coronavirus, ?]  [ser, novo, coronavirus, ?]   \n",
       "2             [o, que, ser, o, corona, ?]             [ser, corona, ?]   \n",
       "3   [do, que, se, tratar, esse, virus, ?]           [tratar, virus, ?]   \n",
       "4              [o, que, ser, o, virus, ?]              [ser, virus, ?]   \n",
       "\n",
       "                    pergunta_en                        token_lemma_en  \\\n",
       "0          What is coronavirus?            [what, be, coronavirus, ?]   \n",
       "1  what is the new coronavirus?  [what, be, the, new, coronavirus, ?]   \n",
       "2           what is the corona?            [what, be, the, corona, ?]   \n",
       "3     what is this virus about?     [what, be, this, virus, about, ?]   \n",
       "4            what is the virus?             [what, be, the, virus, ?]   \n",
       "\n",
       "                               lower_en   stopwords_removed_en  \n",
       "0            [what, be, coronavirus, ?]       [coronavirus, ?]  \n",
       "1  [what, be, the, new, coronavirus, ?]  [new, coronavirus, ?]  \n",
       "2            [what, be, the, corona, ?]            [corona, ?]  \n",
       "3     [what, be, this, virus, about, ?]             [virus, ?]  \n",
       "4             [what, be, the, virus, ?]             [virus, ?]  "
      ]
     },
     "execution_count": 88,
     "metadata": {},
     "output_type": "execute_result"
    }
   ],
   "source": [
    "df_pergunta_topico.head()"
   ]
  },
  {
   "cell_type": "code",
   "execution_count": 90,
   "metadata": {},
   "outputs": [
    {
     "data": {
      "text/plain": [
       "['action', 'take', 'infect', '?']"
      ]
     },
     "execution_count": 90,
     "metadata": {},
     "output_type": "execute_result"
    }
   ],
   "source": [
    "df_pergunta_topico['stopwords_removed_en'].min()"
   ]
  },
  {
   "cell_type": "code",
   "execution_count": 91,
   "metadata": {},
   "outputs": [],
   "source": [
    "df_pergunta_topico.to_csv('pergunta_topico_processado.csv', header=True, index=False)"
   ]
  },
  {
   "cell_type": "markdown",
   "metadata": {},
   "source": [
    "# Treinando um classificador para perguntas - respostas"
   ]
  },
  {
   "cell_type": "code",
   "execution_count": 92,
   "metadata": {},
   "outputs": [],
   "source": [
    "df_classificador = df_pergunta_topico[['stopwords_removed', 'topico']]"
   ]
  },
  {
   "cell_type": "code",
   "execution_count": 93,
   "metadata": {},
   "outputs": [
    {
     "data": {
      "text/html": [
       "<div>\n",
       "<style scoped>\n",
       "    .dataframe tbody tr th:only-of-type {\n",
       "        vertical-align: middle;\n",
       "    }\n",
       "\n",
       "    .dataframe tbody tr th {\n",
       "        vertical-align: top;\n",
       "    }\n",
       "\n",
       "    .dataframe thead th {\n",
       "        text-align: right;\n",
       "    }\n",
       "</style>\n",
       "<table border=\"1\" class=\"dataframe\">\n",
       "  <thead>\n",
       "    <tr style=\"text-align: right;\">\n",
       "      <th></th>\n",
       "      <th>stopwords_removed</th>\n",
       "      <th>topico</th>\n",
       "    </tr>\n",
       "  </thead>\n",
       "  <tbody>\n",
       "    <tr>\n",
       "      <th>0</th>\n",
       "      <td>[ser, coronavirus, ?]</td>\n",
       "      <td>definicao_coronavirus</td>\n",
       "    </tr>\n",
       "    <tr>\n",
       "      <th>1</th>\n",
       "      <td>[ser, novo, coronavirus, ?]</td>\n",
       "      <td>definicao_coronavirus</td>\n",
       "    </tr>\n",
       "    <tr>\n",
       "      <th>2</th>\n",
       "      <td>[ser, corona, ?]</td>\n",
       "      <td>definicao_coronavirus</td>\n",
       "    </tr>\n",
       "    <tr>\n",
       "      <th>3</th>\n",
       "      <td>[tratar, virus, ?]</td>\n",
       "      <td>definicao_coronavirus</td>\n",
       "    </tr>\n",
       "    <tr>\n",
       "      <th>4</th>\n",
       "      <td>[ser, virus, ?]</td>\n",
       "      <td>definicao_coronavirus</td>\n",
       "    </tr>\n",
       "  </tbody>\n",
       "</table>\n",
       "</div>"
      ],
      "text/plain": [
       "             stopwords_removed                 topico\n",
       "0        [ser, coronavirus, ?]  definicao_coronavirus\n",
       "1  [ser, novo, coronavirus, ?]  definicao_coronavirus\n",
       "2             [ser, corona, ?]  definicao_coronavirus\n",
       "3           [tratar, virus, ?]  definicao_coronavirus\n",
       "4              [ser, virus, ?]  definicao_coronavirus"
      ]
     },
     "execution_count": 93,
     "metadata": {},
     "output_type": "execute_result"
    }
   ],
   "source": [
    "df_classificador.head()"
   ]
  },
  {
   "cell_type": "code",
   "execution_count": 94,
   "metadata": {},
   "outputs": [],
   "source": [
    "lista_de_topicos = list(df_classificador['topico'].unique())"
   ]
  },
  {
   "cell_type": "code",
   "execution_count": 102,
   "metadata": {},
   "outputs": [
    {
     "data": {
      "text/plain": [
       "43"
      ]
     },
     "execution_count": 102,
     "metadata": {},
     "output_type": "execute_result"
    }
   ],
   "source": [
    "len(lista_de_topicos)"
   ]
  },
  {
   "cell_type": "code",
   "execution_count": 105,
   "metadata": {},
   "outputs": [
    {
     "data": {
      "text/plain": [
       "'definicao_coronavirus'"
      ]
     },
     "execution_count": 105,
     "metadata": {},
     "output_type": "execute_result"
    }
   ],
   "source": [
    "lista_de_topicos[0]"
   ]
  },
  {
   "cell_type": "code",
   "execution_count": 101,
   "metadata": {},
   "outputs": [],
   "source": [
    "from sklearn.model_selection import train_test_split"
   ]
  },
  {
   "cell_type": "code",
   "execution_count": 124,
   "metadata": {},
   "outputs": [],
   "source": [
    "X = df_classificador[['stopwords_removed', 'topico']]\n",
    "y = df_classificador.topico"
   ]
  },
  {
   "cell_type": "code",
   "execution_count": 125,
   "metadata": {},
   "outputs": [
    {
     "name": "stderr",
     "output_type": "stream",
     "text": [
      "/home/mateuscichelero/miniconda3/envs/ds/lib/python3.7/site-packages/sklearn/model_selection/_split.py:1609: DeprecationWarning: `np.int` is a deprecated alias for the builtin `int`. To silence this warning, use `int` by itself. Doing this will not modify any behavior and is safe. When replacing `np.int`, you may wish to use e.g. `np.int64` or `np.int32` to specify the precision. If you wish to review your current use, check the release note link for additional information.\n",
      "Deprecated in NumPy 1.20; for more details and guidance: https://numpy.org/devdocs/release/1.20.0-notes.html#deprecations\n",
      "  return floored.astype(np.int)\n",
      "/home/mateuscichelero/miniconda3/envs/ds/lib/python3.7/site-packages/sklearn/model_selection/_split.py:1609: DeprecationWarning: `np.int` is a deprecated alias for the builtin `int`. To silence this warning, use `int` by itself. Doing this will not modify any behavior and is safe. When replacing `np.int`, you may wish to use e.g. `np.int64` or `np.int32` to specify the precision. If you wish to review your current use, check the release note link for additional information.\n",
      "Deprecated in NumPy 1.20; for more details and guidance: https://numpy.org/devdocs/release/1.20.0-notes.html#deprecations\n",
      "  return floored.astype(np.int)\n"
     ]
    }
   ],
   "source": [
    "X_train, X_test, y_train, y_test = train_test_split(X, y, test_size=0.25, random_state = 42,stratify=y)"
   ]
  },
  {
   "cell_type": "code",
   "execution_count": 126,
   "metadata": {},
   "outputs": [
    {
     "data": {
      "text/html": [
       "<div>\n",
       "<style scoped>\n",
       "    .dataframe tbody tr th:only-of-type {\n",
       "        vertical-align: middle;\n",
       "    }\n",
       "\n",
       "    .dataframe tbody tr th {\n",
       "        vertical-align: top;\n",
       "    }\n",
       "\n",
       "    .dataframe thead th {\n",
       "        text-align: right;\n",
       "    }\n",
       "</style>\n",
       "<table border=\"1\" class=\"dataframe\">\n",
       "  <thead>\n",
       "    <tr style=\"text-align: right;\">\n",
       "      <th></th>\n",
       "      <th>stopwords_removed</th>\n",
       "      <th>topico</th>\n",
       "    </tr>\n",
       "  </thead>\n",
       "  <tbody>\n",
       "    <tr>\n",
       "      <th>338</th>\n",
       "      <td>[imunidade, duro, quantum, tempo, tomar, vacin...</td>\n",
       "      <td>tempo_imunidade</td>\n",
       "    </tr>\n",
       "    <tr>\n",
       "      <th>111</th>\n",
       "      <td>[ir, ter, tomar, vacinar, quantum, quantum, te...</td>\n",
       "      <td>vacina_periodicidade</td>\n",
       "    </tr>\n",
       "    <tr>\n",
       "      <th>304</th>\n",
       "      <td>[onde, poder, comprar, vacinar, ?]</td>\n",
       "      <td>comprar_vacina</td>\n",
       "    </tr>\n",
       "    <tr>\n",
       "      <th>362</th>\n",
       "      <td>[ser, casar, reinfeccao, ?]</td>\n",
       "      <td>reinfeccao</td>\n",
       "    </tr>\n",
       "    <tr>\n",
       "      <th>231</th>\n",
       "      <td>[dever, esperar, algum, tempo, tomar, vacinar,...</td>\n",
       "      <td>outras_vacinas_juntas</td>\n",
       "    </tr>\n",
       "  </tbody>\n",
       "</table>\n",
       "</div>"
      ],
      "text/plain": [
       "                                     stopwords_removed                 topico\n",
       "338  [imunidade, duro, quantum, tempo, tomar, vacin...        tempo_imunidade\n",
       "111  [ir, ter, tomar, vacinar, quantum, quantum, te...   vacina_periodicidade\n",
       "304                 [onde, poder, comprar, vacinar, ?]         comprar_vacina\n",
       "362                        [ser, casar, reinfeccao, ?]             reinfeccao\n",
       "231  [dever, esperar, algum, tempo, tomar, vacinar,...  outras_vacinas_juntas"
      ]
     },
     "execution_count": 126,
     "metadata": {},
     "output_type": "execute_result"
    }
   ],
   "source": [
    "X_train.head()"
   ]
  },
  {
   "cell_type": "code",
   "execution_count": 113,
   "metadata": {},
   "outputs": [
    {
     "data": {
      "text/plain": [
       "(335,)"
      ]
     },
     "execution_count": 113,
     "metadata": {},
     "output_type": "execute_result"
    }
   ],
   "source": [
    "y_train.shape"
   ]
  },
  {
   "cell_type": "code",
   "execution_count": 114,
   "metadata": {},
   "outputs": [
    {
     "data": {
      "text/plain": [
       "(112,)"
      ]
     },
     "execution_count": 114,
     "metadata": {},
     "output_type": "execute_result"
    }
   ],
   "source": [
    "y_test.shape"
   ]
  },
  {
   "cell_type": "code",
   "execution_count": 244,
   "metadata": {},
   "outputs": [],
   "source": [
    "from sklearn.feature_extraction.text import CountVectorizer, TfidfVectorizer\n",
    "from sklearn.naive_bayes import MultinomialNB\n",
    "from sklearn.pipeline import Pipeline\n",
    "from sklearn.feature_extraction.text import TfidfTransformer\n",
    "import pickle"
   ]
  },
  {
   "cell_type": "code",
   "execution_count": 133,
   "metadata": {},
   "outputs": [],
   "source": [
    "def dummy(doc):\n",
    "    return doc"
   ]
  },
  {
   "cell_type": "code",
   "execution_count": 134,
   "metadata": {},
   "outputs": [
    {
     "data": {
      "text/plain": [
       "Pipeline(memory=None,\n",
       "     steps=[('vect', CountVectorizer(analyzer='word', binary=False, decode_error='strict',\n",
       "        dtype=<class 'numpy.int64'>, encoding='utf-8', input='content',\n",
       "        lowercase=True, max_df=1.0, max_features=None, min_df=1,\n",
       "        ngram_range=(1, 1),\n",
       "        preprocessor=<function dummy at 0x7fc8b9d...inear_tf=False, use_idf=True)), ('clf', MultinomialNB(alpha=1.0, class_prior=None, fit_prior=True))])"
      ]
     },
     "execution_count": 134,
     "metadata": {},
     "output_type": "execute_result"
    }
   ],
   "source": [
    "nb = Pipeline([('vect', CountVectorizer(tokenizer=dummy,preprocessor=dummy)),\n",
    "               ('tfidf', TfidfTransformer()),\n",
    "               ('clf', MultinomialNB()),\n",
    "              ])\n",
    "nb.fit(X_train['stopwords_removed'], y_train)"
   ]
  },
  {
   "cell_type": "code",
   "execution_count": 245,
   "metadata": {},
   "outputs": [],
   "source": [
    "# save the model to disk\n",
    "filename = 'nb_pipeline.pkl'\n",
    "pickle.dump(nb, open(filename, 'wb'))"
   ]
  },
  {
   "cell_type": "code",
   "execution_count": 136,
   "metadata": {},
   "outputs": [
    {
     "name": "stdout",
     "output_type": "stream",
     "text": [
      "accuracy 0.8482142857142857\n",
      "                          precision    recall  f1-score   support\n",
      "\n",
      "   definicao_coronavirus       0.60      1.00      0.75         3\n",
      "            acoes_doente       1.00      1.00      1.00         3\n",
      "       covid_coronavirus       1.00      1.00      1.00         2\n",
      "                infeccao       0.60      1.00      0.75         3\n",
      "             grupo_risco       0.60      1.00      0.75         3\n",
      "        virus_superficie       1.00      1.00      1.00         3\n",
      "             uso_mascara       1.00      1.00      1.00         3\n",
      "        seguranca_vacina       1.00      1.00      1.00         3\n",
      "        imunidade_vacina       1.00      1.00      1.00         2\n",
      "   vacina_mutacoes_virus       0.00      0.00      0.00         1\n",
      "   vacina_efeito_adverso       1.00      1.00      1.00         3\n",
      "    vacina_periodicidade       1.00      1.00      1.00         3\n",
      "  vacina_tempo_imunidade       0.00      0.00      0.00         2\n",
      "    vacinado_transmissao       1.00      1.00      1.00         3\n",
      "    quem_vacina_primeiro       1.00      1.00      1.00         3\n",
      "  vacina_quem_deve_tomar       0.00      0.00      0.00         2\n",
      " vacina_adultos_criancas       0.00      0.00      0.00         2\n",
      "       vacina_infectados       1.00      1.00      1.00         3\n",
      "      vacina_obrigatoria       1.00      1.00      1.00         3\n",
      "       vacina_duas_doses       0.75      1.00      0.86         3\n",
      "       vacina_eficiencia       1.00      1.00      1.00         2\n",
      "          escolha_vacina       1.00      0.50      0.67         2\n",
      "   outras_vacinas_juntas       1.00      1.00      1.00         3\n",
      "doses_diferentes_vacinas       1.00      1.00      1.00         2\n",
      "       vacinado_exterior       0.67      1.00      0.80         2\n",
      "        sem_carteira_sus       1.00      1.00      1.00         3\n",
      "      controle_vacinacao       1.00      1.00      1.00         2\n",
      "capacidade_vacinacao_sus       1.00      1.00      1.00         3\n",
      "    comorbidade_atestado       1.00      0.67      0.80         3\n",
      "          comprar_vacina       1.00      1.00      1.00         2\n",
      "         uso_emergencial       1.00      1.00      1.00         3\n",
      "          vacina_gravida       1.00      1.00      1.00         2\n",
      "         tempo_imunidade       1.00      0.67      0.80         3\n",
      "         variantes_virus       0.50      0.67      0.57         3\n",
      " identificacao_variantes       0.38      1.00      0.55         3\n",
      "              reinfeccao       1.00      0.67      0.80         3\n",
      "      origem_coronavirus       1.00      1.00      1.00         2\n",
      "     animais_coronavirus       0.60      1.00      0.75         3\n",
      "                sintomas       1.00      0.75      0.86         4\n",
      "            antibioticos       1.00      1.00      1.00         2\n",
      "       hidroxicloroquina       1.00      1.00      1.00         3\n",
      "      aumentar_imunidade       0.00      0.00      0.00         2\n",
      "      testes_coronavirus       0.00      0.00      0.00         2\n",
      "\n",
      "               micro avg       0.85      0.85      0.85       112\n",
      "               macro avg       0.78      0.81      0.78       112\n",
      "            weighted avg       0.82      0.85      0.82       112\n",
      "\n",
      "CPU times: user 4.07 ms, sys: 3.68 ms, total: 7.75 ms\n",
      "Wall time: 202 ms\n"
     ]
    },
    {
     "name": "stderr",
     "output_type": "stream",
     "text": [
      "/home/mateuscichelero/miniconda3/envs/ds/lib/python3.7/site-packages/sklearn/metrics/classification.py:1143: UndefinedMetricWarning: Precision and F-score are ill-defined and being set to 0.0 in labels with no predicted samples.\n",
      "  'precision', 'predicted', average, warn_for)\n"
     ]
    }
   ],
   "source": [
    "\n",
    "%%time\n",
    "from sklearn.metrics import classification_report\n",
    "from sklearn.metrics import accuracy_score, confusion_matrix\n",
    "\n",
    "y_pred = nb.predict(X_test['stopwords_removed'])\n",
    "\n",
    "print('accuracy %s' % accuracy_score(y_pred, y_test))\n",
    "print(classification_report(y_test, y_pred,target_names=lista_de_topicos))"
   ]
  },
  {
   "cell_type": "code",
   "execution_count": 246,
   "metadata": {},
   "outputs": [],
   "source": [
    "# save the language_model to disk\n",
    "filename = 'nlp_model.pkl'\n",
    "pickle.dump(nlp, open(filename, 'wb'))"
   ]
  },
  {
   "cell_type": "code",
   "execution_count": null,
   "metadata": {},
   "outputs": [],
   "source": []
  },
  {
   "cell_type": "code",
   "execution_count": 162,
   "metadata": {},
   "outputs": [],
   "source": [
    "def tokeniza_lemmatiza(pergunta):\n",
    "     return [tok.lemma_ for tok in nlp(pergunta)]\n",
    "    \n",
    "def to_lower(token_lemma):\n",
    "    return [word.lower() for word in token_lemma]\n",
    "\n",
    "def no_punc(lowered):\n",
    "    return [word for word in lowered if word not in punc]\n",
    "\n",
    "def no_accen(no_punc):\n",
    "    return [removerAcentosECaracteresEspeciais(word) for word in no_punc]\n",
    "\n",
    "def stopword_removed(no_accen):\n",
    "    return [word for word in no_accen if word not in stop_words]"
   ]
  },
  {
   "cell_type": "code",
   "execution_count": 209,
   "metadata": {},
   "outputs": [],
   "source": [
    "pergunta = 'máscara feita em casa protege do vírus?'"
   ]
  },
  {
   "cell_type": "code",
   "execution_count": null,
   "metadata": {},
   "outputs": [],
   "source": [
    "# traduz para inglês"
   ]
  },
  {
   "cell_type": "code",
   "execution_count": 210,
   "metadata": {},
   "outputs": [],
   "source": [
    "entrada = stopword_removed(\n",
    "    no_accen(\n",
    "        no_punc(\n",
    "            to_lower(\n",
    "                tokeniza_lemmatiza(pergunta)))))"
   ]
  },
  {
   "cell_type": "code",
   "execution_count": 211,
   "metadata": {},
   "outputs": [
    {
     "name": "stdout",
     "output_type": "stream",
     "text": [
      "A pergunta foi classificada como sendo do tópico: uso_mascara\n",
      "\n",
      "\n",
      "Resposta indicada de uma fonte oficial sobre o tema da pergunta: \n",
      "\n",
      "Dados científicos recentes constatam que a transmissão da COVID-19 pode ocorrer mesmo antes do indivíduo apresentar os primeiros sinais e sintomas. Por esse motivo, o Ministério da Saúde passou a recomendar o uso de máscaras faciais para todos. A utilização de máscaras impede a disseminação de gotículas expelidas do nariz ou da boca do usuário no ambiente, garantindo uma barreira física que vem auxiliando na mudança de comportamento da população e diminuição de casos. \n",
      "\n",
      "Diante da insuficiência de insumos, foi solicitado aos cidadãos para que produzam a sua própria máscara de tecido, deixando as máscaras profissionais (cirúrgica e N95 ou similares) para os profissionais da saúde ou outro grupo de trabalhador para o qual exista a previsão legal do uso deste EPI. \n",
      "\n",
      "O uso da máscara caseira ajuda na prevenção da COVID-19 desde que associada a outras medidas de prevenção, como: \n",
      "\n",
      "Distanciamento social\n",
      "Cumprimento da etiqueta respiratória\n",
      "Higienização das mãos\n",
      "Limpeza e desinfeção de ambientes\n",
      " \n",
      "\n",
      "Caso você opte por confeccionar uma máscara caseira, observe as seguintes recomendações: \n",
      "\n",
      "Confeccionar a máscara com pelo menos duas camadas de pano, como algodão ou tricoline ou TNT\n",
      "Ser individual\n",
      "A máscara deve cobrir totalmente boca e nariz e ficar bem ajustada ao rosto.\n",
      "As máscaras devem ser de uso individual.\n",
      " \n",
      "\n",
      "Como usar a máscara caseira: \n",
      "\n",
      "Lave as mãos com água e sabão, antes de colocar e retirar a máscara\n",
      "Remova a máscara pelo laço ou nó da parte de trás e evite tocar na parte da frente\n",
      "Deixe a máscara de molho por 30 minutos em uma mistura de 1 parte de água sanitárias (2% a 2,5%) com 50 partes de água potável. Por exemplo: 10ml de água sanitária para 500ml de água potável\n",
      "Lave a máscara e as mãos com água e sabão.\n",
      "A máscara precisa estar seca para ser utilizada de novo!\n",
      "Após secagem da máscara utilize o com ferro quente e acondicionar em saco plástico.\n",
      "Trocar a máscara sempre que apresentar sujidades ou umidade.\n",
      "Descartar a máscara sempre que apresentar sinais de deterioração ou funcionalidade comprometida.\n",
      "Ao sinal de desgaste da máscara deve ser inutilizada e nova máscara deve ser feita\n"
     ]
    }
   ],
   "source": [
    "topico= nb.predict([entrada])[0]\n",
    "print(f'A pergunta foi classificada como sendo do tópico: {topico}')\n",
    "print()\n",
    "print()\n",
    "print('Resposta indicada de uma fonte oficial sobre o tema da pergunta: ')\n",
    "print()\n",
    "print(df_topico_resposta['resposta'][df_topico_resposta['topico']==topico].iloc[0])"
   ]
  },
  {
   "cell_type": "markdown",
   "metadata": {},
   "source": [
    "# Aplicando chatbot - recuperação de informação via similaridade de cossenos"
   ]
  },
  {
   "cell_type": "code",
   "execution_count": 212,
   "metadata": {},
   "outputs": [],
   "source": [
    "import io\n",
    "import random\n",
    "import string # to process standard python strings\n",
    "import warnings\n",
    "import numpy as np\n",
    "from sklearn.feature_extraction.text import TfidfVectorizer\n",
    "from sklearn.metrics.pairwise import cosine_similarity\n",
    "import warnings\n",
    "warnings.filterwarnings('ignore')"
   ]
  },
  {
   "cell_type": "code",
   "execution_count": 234,
   "metadata": {},
   "outputs": [],
   "source": [
    "f=open('respostas_ministerio.txt','r',errors = 'ignore')\n",
    "raw=f.read()\n",
    "raw = raw.lower()# converts to lowercase"
   ]
  },
  {
   "cell_type": "code",
   "execution_count": 235,
   "metadata": {},
   "outputs": [],
   "source": [
    "import nltk"
   ]
  },
  {
   "cell_type": "code",
   "execution_count": 236,
   "metadata": {},
   "outputs": [],
   "source": [
    "sent_tokens = nltk.sent_tokenize(raw)# converts to list of sentences \n",
    "word_tokens = nltk.word_tokenize(raw)# converts to list of words"
   ]
  },
  {
   "cell_type": "code",
   "execution_count": 237,
   "metadata": {},
   "outputs": [],
   "source": [
    "lemmer = nltk.stem.WordNetLemmatizer()\n",
    "#WordNet is a semantically-oriented dictionary of English included in NLTK.\n",
    "def LemTokens(tokens):\n",
    "    return [lemmer.lemmatize(token) for token in tokens]\n",
    "remove_punct_dict = dict((ord(punct), None) for punct in string.punctuation)\n",
    "\n",
    "def LemNormalize(text):\n",
    "    return LemTokens(nltk.word_tokenize(text.lower().translate(remove_punct_dict)))"
   ]
  },
  {
   "cell_type": "code",
   "execution_count": 238,
   "metadata": {},
   "outputs": [],
   "source": [
    "SAUDACOES_INPUTS = (\"oi\", \"olá\", \"ola\", \"bom dia\", \"boa tarde\",\"hey\",\"boa noite\", \"saudações\", \"saudacoes\", \"oi, tudo bem?\")\n",
    "SAUDACOES_RESPOSTAS = [\"oi\", \"ola\", \"ola voce\", \"tudo bom?\", \"feliz em falar contigo!\"]\n",
    "def greeting(sentence):\n",
    "    for word in sentence.split():\n",
    "        if word.lower() in SAUDACOES_INPUTS:\n",
    "            return random.choice(SAUDACOES_RESPOSTAS)"
   ]
  },
  {
   "cell_type": "code",
   "execution_count": 239,
   "metadata": {},
   "outputs": [],
   "source": [
    "def response(user_response):\n",
    "    robo_response=''\n",
    "    sent_tokens.append(user_response)\n",
    "    TfidfVec = TfidfVectorizer(tokenizer=LemNormalize, stop_words=stop_words)\n",
    "    tfidf = TfidfVec.fit_transform(sent_tokens)\n",
    "    vals = cosine_similarity(tfidf[-1], tfidf)\n",
    "    idx=vals.argsort()[0][-2]\n",
    "    flat = vals.flatten()\n",
    "    flat.sort()\n",
    "    req_tfidf = flat[-2]\n",
    "    if(req_tfidf==0):\n",
    "        robo_response=robo_response+\"Desculpe! Nao te entendi\"\n",
    "        return robo_response\n",
    "    else:\n",
    "        robo_response = robo_response+sent_tokens[idx]\n",
    "        return robo_response"
   ]
  },
  {
   "cell_type": "code",
   "execution_count": 240,
   "metadata": {},
   "outputs": [],
   "source": [
    "import os\n",
    "clear = lambda: os.system('clear')"
   ]
  },
  {
   "cell_type": "code",
   "execution_count": 241,
   "metadata": {},
   "outputs": [
    {
     "name": "stdout",
     "output_type": "stream",
     "text": [
      "ROBIN: Meu nome é Robin. Hoje estarei respondendo suas perguntas sobre o coronavirus. Se quiser finalizar a conversa, basta escrever Tchau!\n"
     ]
    },
    {
     "name": "stdin",
     "output_type": "stream",
     "text": [
      " oi\n"
     ]
    },
    {
     "name": "stdout",
     "output_type": "stream",
     "text": [
      "ROBIN: feliz em falar contigo!\n"
     ]
    },
    {
     "name": "stdin",
     "output_type": "stream",
     "text": [
      " sintomas\n"
     ]
    },
    {
     "name": "stdout",
     "output_type": "stream",
     "text": [
      "ROBIN: isso pode acontecer mesmo sem o desenvolvimento de sintomas.\n"
     ]
    },
    {
     "name": "stdin",
     "output_type": "stream",
     "text": [
      " quais os sintomas?\n"
     ]
    },
    {
     "name": "stdout",
     "output_type": "stream",
     "text": [
      "ROBIN: isso pode acontecer mesmo sem o desenvolvimento de sintomas.\n"
     ]
    },
    {
     "name": "stdin",
     "output_type": "stream",
     "text": [
      " menores de idade\n"
     ]
    },
    {
     "name": "stdout",
     "output_type": "stream",
     "text": [
      "ROBIN: a vacina, a princípio, não tem indicação para crianças (grupo menos vulnerável ao coronavírus) e menores de 18 anos.\n"
     ]
    },
    {
     "name": "stdin",
     "output_type": "stream",
     "text": [
      " idosos\n"
     ]
    },
    {
     "name": "stdout",
     "output_type": "stream",
     "text": [
      "ROBIN: se estiver doente, com sintomas compatíveis com a covid-19, tais como febre, tosse, dor de garganta e/ou coriza, com ou sem falta de ar, evite contato físico com outras pessoas, incluindo os familiares, principalmente, idosos e doentes crônicos, busque atendimento nos serviços de saúde e siga as orientações médicas.\n"
     ]
    },
    {
     "name": "stdin",
     "output_type": "stream",
     "text": [
      " aglomerações\n"
     ]
    },
    {
     "name": "stdout",
     "output_type": "stream",
     "text": [
      "ROBIN: Desculpe! Nao te entendi\n"
     ]
    },
    {
     "name": "stdin",
     "output_type": "stream",
     "text": [
      " posso aglomerar\n"
     ]
    },
    {
     "name": "stdout",
     "output_type": "stream",
     "text": [
      "ROBIN: Desculpe! Nao te entendi\n"
     ]
    },
    {
     "name": "stdin",
     "output_type": "stream",
     "text": [
      " ?\n"
     ]
    },
    {
     "name": "stdout",
     "output_type": "stream",
     "text": [
      "ROBIN: Desculpe! Nao te entendi\n"
     ]
    },
    {
     "name": "stdin",
     "output_type": "stream",
     "text": [
      " devo me vacinar?\n"
     ]
    },
    {
     "name": "stdout",
     "output_type": "stream",
     "text": [
      "ROBIN: Desculpe! Nao te entendi\n"
     ]
    },
    {
     "name": "stdin",
     "output_type": "stream",
     "text": [
      " quem pode se vacinar?\n"
     ]
    },
    {
     "name": "stdout",
     "output_type": "stream",
     "text": [
      "ROBIN: isso pode acontecer mesmo sem o desenvolvimento de sintomas.\n"
     ]
    },
    {
     "name": "stdin",
     "output_type": "stream",
     "text": [
      " animais transmitem a doença?\n"
     ]
    },
    {
     "name": "stdout",
     "output_type": "stream",
     "text": [
      "ROBIN: estudos em animais não demonstraram risco.\n"
     ]
    },
    {
     "name": "stdin",
     "output_type": "stream",
     "text": [
      " tchau\n"
     ]
    },
    {
     "name": "stdout",
     "output_type": "stream",
     "text": [
      "ROBIN: Até logo! Fique bem e se cuide..\n"
     ]
    }
   ],
   "source": [
    "flag=True\n",
    "print(\"ROBIN: Meu nome é Robin. Hoje estarei respondendo suas perguntas sobre o coronavirus. Se quiser finalizar a conversa, basta escrever Tchau!\")\n",
    "while(flag==True):\n",
    "    user_response = input()\n",
    "    clear()\n",
    "    user_response=user_response.lower()\n",
    "    if(user_response!='tchau'):\n",
    "        if(user_response=='obrigado' or user_response=='valeu' or user_response=='muito obrigado'):\n",
    "            flag=False\n",
    "            print(\"ROBIN: De nada..\")\n",
    "        else:\n",
    "            if(greeting(user_response)!=None):\n",
    "                print(\"ROBIN: \"+greeting(user_response))\n",
    "            else:\n",
    "                print(\"ROBIN: \",end=\"\")\n",
    "                print(response(user_response))\n",
    "                sent_tokens.remove(user_response)\n",
    "    else:\n",
    "        flag=False\n",
    "        print(\"ROBIN: Até logo! Fique bem e se cuide..\")"
   ]
  }
 ],
 "metadata": {
  "kernelspec": {
   "display_name": "Python 3.7.6 64-bit",
   "language": "python",
   "name": "python37664bit01ad78d3e08f4aabab1963484dc8ad7e"
  },
  "language_info": {
   "codemirror_mode": {
    "name": "ipython",
    "version": 3
   },
   "file_extension": ".py",
   "mimetype": "text/x-python",
   "name": "python",
   "nbconvert_exporter": "python",
   "pygments_lexer": "ipython3",
   "version": "3.7.6"
  }
 },
 "nbformat": 4,
 "nbformat_minor": 4
}
